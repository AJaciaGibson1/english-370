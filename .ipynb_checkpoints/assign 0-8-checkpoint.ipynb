{
 "cells": [
  {
   "cell_type": "code",
   "execution_count": 1,
   "id": "c285768b-f460-4134-926e-b4af1219f745",
   "metadata": {},
   "outputs": [],
   "source": [
    "#IMPORTS\n",
    "import re\n",
    "import nltk\n",
    "\n",
    "#Improved normalization function\n",
    "#Removes all punctuation expect periods (for sentences)\n",
    "#lowercases all words and tokenizes\n",
    "def tknize (a_string):\n",
    "    #Handle all the string operations at one time\n",
    "    # clean = re.sub('[^a-zA-Z /.]', ' ', a_string).lower()\n",
    "    #Create the list of sub-strings (tokens) and return it\n",
    "    return nltk.tokenize.word_tokenize(a_string)"
   ]
  },
  {
   "cell_type": "code",
   "execution_count": null,
   "id": "71cd5d5c-5ab9-43c1-87a7-bda649f32e81",
   "metadata": {},
   "outputs": [],
   "source": []
  },
  {
   "cell_type": "code",
   "execution_count": 7,
   "id": "be50e869-db25-4702-9296-079b9ed73f15",
   "metadata": {},
   "outputs": [
    {
     "name": "stdout",
     "output_type": "stream",
     "text": [
      "<b><!--\n",
      "\n",
      "</b>if (window!= top)\n",
      "\n",
      "top.location.href=location.href\n",
      "\n",
      "<b>// -->\n",
      "\n",
      "</b>\n",
      "\n",
      "The Abyss - by James Cameron \n",
      "\n",
      "                                  THE\n"
     ]
    }
   ],
   "source": [
    "#DATA\n",
    "with open(\"data/Adventure/abyssthe.txt\", mode=\"r\") as f:\n",
    "    abyss = f.read()\n",
    "print(abyss[0:150]) "
   ]
  },
  {
   "cell_type": "code",
   "execution_count": 11,
   "id": "0fa866e2-0897-418e-9a6f-3a04e2ff3ee4",
   "metadata": {},
   "outputs": [
    {
     "data": {
      "text/plain": [
       "str"
      ]
     },
     "execution_count": 11,
     "metadata": {},
     "output_type": "execute_result"
    }
   ],
   "source": [
    "type(abyss)"
   ]
  },
  {
   "cell_type": "code",
   "execution_count": 8,
   "id": "3bc1fd2d-b751-443f-a4f4-580ece1801a9",
   "metadata": {},
   "outputs": [
    {
     "name": "stdout",
     "output_type": "stream",
     "text": [
      "['<', 'b', '>', '<', '!', '--', '<', '/b', '>', 'if']\n"
     ]
    }
   ],
   "source": [
    "#Break them into a list of tokens\n",
    "tokens = tknize(abyss)\n",
    "print(tokens[0:10])"
   ]
  },
  {
   "cell_type": "code",
   "execution_count": 20,
   "id": "90797c88-1099-4c35-9d14-103046a51e84",
   "metadata": {},
   "outputs": [
    {
     "name": "stderr",
     "output_type": "stream",
     "text": [
      "[nltk_data] Downloading package averaged_perceptron_tagger_eng to\n",
      "[nltk_data]     C:\\Users\\ajaci\\AppData\\Roaming\\nltk_data...\n",
      "[nltk_data]   Unzipping taggers\\averaged_perceptron_tagger_eng.zip.\n"
     ]
    },
    {
     "data": {
      "text/plain": [
       "True"
      ]
     },
     "execution_count": 20,
     "metadata": {},
     "output_type": "execute_result"
    }
   ],
   "source": [
    " # nltk.download('averaged_perceptron_tagger_eng')"
   ]
  },
  {
   "cell_type": "code",
   "execution_count": 10,
   "id": "b56a01b9-43f2-41d5-b299-5c933476e1d2",
   "metadata": {},
   "outputs": [
    {
     "data": {
      "text/plain": [
       "[('<', 'NN'),\n",
       " ('b', 'NN'),\n",
       " ('>', 'NNP'),\n",
       " ('<', 'NN'),\n",
       " ('!', '.'),\n",
       " ('--', ':'),\n",
       " ('<', 'JJ'),\n",
       " ('/b', 'JJ'),\n",
       " ('>', 'NN'),\n",
       " ('if', 'IN')]"
      ]
     },
     "execution_count": 10,
     "metadata": {},
     "output_type": "execute_result"
    }
   ],
   "source": [
    "#abyss is our cleaned list of tokens which keeps only periods\n",
    "abyss_tagged = nltk.pos_tag(tokens)\n",
    "\n",
    "abyss_tagged[0:10]"
   ]
  },
  {
   "cell_type": "code",
   "execution_count": 5,
   "id": "410c3fad-331f-445a-aa66-fd5724991f6f",
   "metadata": {},
   "outputs": [
    {
     "name": "stdout",
     "output_type": "stream",
     "text": [
      "NN NN NNP NN . : JJ JJ NN IN\n"
     ]
    }
   ],
   "source": [
    "#You can re-assemble this to see what the parser is going to see\n",
    "reassembled = [tagged[1] for tagged in abyss_tagged[0:10]]\n",
    "print(\" \".join(reassembled))\n"
   ]
  },
  {
   "cell_type": "code",
   "execution_count": 6,
   "id": "210d05b3-a5ef-4820-8764-cf486ffd64c8",
   "metadata": {},
   "outputs": [
    {
     "name": "stdout",
     "output_type": "stream",
     "text": [
      "<\n",
      "/b\n",
      "top\n",
      ">\n",
      "<\n"
     ]
    }
   ],
   "source": [
    "for t in abyss_tagged[0:100]:\n",
    "    if t[1] == 'JJ':\n",
    "        print(t[0])\n",
    "        "
   ]
  },
  {
   "cell_type": "code",
   "execution_count": 12,
   "id": "ea620164-8b78-4c49-af2f-ec846fadbc69",
   "metadata": {},
   "outputs": [
    {
     "name": "stdout",
     "output_type": "stream",
     "text": [
      "[\"n't\", 'twice', \"n't\", 'even', 'not', 'not', 'Still', 'simultaneously', 'Still', 'tensely', 'uncomfortably', 'close', 'here', 'still', 'right', 'down', 'right', 'too', 'close', 'back', 'really', 'now', 'Suddenly', 'almost', 'only', 'not', 'rapidly', 'once', 'not', 'along', 'off', 'instantly', 'up', 'twelve', 'forward', 'back', 'back', 'back', 'fourteen', 'later', 'down', 'just', 'finally', 'almost', 'down', 'ugly', 'very', 'not', 'hardcore', 'freezin']\n",
      "1502\n"
     ]
    }
   ],
   "source": [
    "#A for loop to work through our list of POS topics\n",
    "#and retrieve only the words that match the POS we want:\n",
    "\n",
    "adverbs = []\n",
    "for i in abyss_tagged:\n",
    "    if i[1] == \"RB\":\n",
    "        adverbs.append(i[0])\n",
    "\n",
    "print(adverbs[0:50])\n",
    "print(len(adverbs))"
   ]
  },
  {
   "cell_type": "code",
   "execution_count": null,
   "id": "7f4bb8c8-7cf2-4efe-aee0-b712c1b2c538",
   "metadata": {},
   "outputs": [],
   "source": []
  }
 ],
 "metadata": {
  "kernelspec": {
   "display_name": "Python 3 (ipykernel)",
   "language": "python",
   "name": "python3"
  },
  "language_info": {
   "codemirror_mode": {
    "name": "ipython",
    "version": 3
   },
   "file_extension": ".py",
   "mimetype": "text/x-python",
   "name": "python",
   "nbconvert_exporter": "python",
   "pygments_lexer": "ipython3",
   "version": "3.10.16"
  }
 },
 "nbformat": 4,
 "nbformat_minor": 5
}
