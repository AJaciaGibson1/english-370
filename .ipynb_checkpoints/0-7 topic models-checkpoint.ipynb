{
 "cells": [
  {
   "cell_type": "code",
   "execution_count": 3,
   "id": "fd02ea45-209a-4e9e-9676-0c6ee7fc5308",
   "metadata": {},
   "outputs": [],
   "source": [
    "#Import libraries\n",
    "import os\n",
    "import glob\n",
    "from sklearn.decomposition import LatentDirichletAllocation, NMF "
   ]
  },
  {
   "cell_type": "code",
   "execution_count": 6,
   "id": "93563431-38cf-41a0-9302-245737850fa6",
   "metadata": {},
   "outputs": [
    {
     "ename": "SyntaxError",
     "evalue": "invalid syntax (584733677.py, line 2)",
     "output_type": "error",
     "traceback": [
      "\u001b[1;36m  Cell \u001b[1;32mIn[6], line 2\u001b[1;36m\u001b[0m\n\u001b[1;33m    path_to_corpus = Users/ajaci/Developer Engl 370/ENGL370-2025/Gibson/data/Adventure\u001b[0m\n\u001b[1;37m                                           ^\u001b[0m\n\u001b[1;31mSyntaxError\u001b[0m\u001b[1;31m:\u001b[0m invalid syntax\n"
     ]
    }
   ],
   "source": [
    "#Corpus is pointing to adventure folder\n",
    "path_to_corpus = Users/ajaci/Developer Engl 370/ENGL370-2025/Gibson/data/Adventure"
   ]
  },
  {
   "cell_type": "code",
   "execution_count": null,
   "id": "ee754b5f-3ead-4cfd-9d8f-21c2b4760c4c",
   "metadata": {},
   "outputs": [],
   "source": []
  }
 ],
 "metadata": {
  "kernelspec": {
   "display_name": "Python 3 (ipykernel)",
   "language": "python",
   "name": "python3"
  },
  "language_info": {
   "codemirror_mode": {
    "name": "ipython",
    "version": 3
   },
   "file_extension": ".py",
   "mimetype": "text/x-python",
   "name": "python",
   "nbconvert_exporter": "python",
   "pygments_lexer": "ipython3",
   "version": "3.10.16"
  }
 },
 "nbformat": 4,
 "nbformat_minor": 5
}
