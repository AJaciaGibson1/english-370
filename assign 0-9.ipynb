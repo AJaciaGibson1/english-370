{
 "cells": [
  {
   "cell_type": "code",
   "execution_count": null,
   "id": "efc7c8f7-e3a9-4516-b1f7-f6f622ed7eb4",
   "metadata": {},
   "outputs": [],
   "source": [
    "# IMPORTS\n",
    "import re\n",
    "import nltk\n",
    "from pathlib import Path\n",
    "\n",
    "#CUSTOM TOKENIZER\n",
    "#This function takes a string and returns a list of tokens\n",
    "#QUIZ COMMENT: Could this function be improved?\n",
    "def tknize (a_string):\n",
    "    words = re.sub('[^a-zA-Z /.]',"
   ]
  }
 ],
 "metadata": {
  "kernelspec": {
   "display_name": "Python 3 (ipykernel)",
   "language": "python",
   "name": "python3"
  },
  "language_info": {
   "codemirror_mode": {
    "name": "ipython",
    "version": 3
   },
   "file_extension": ".py",
   "mimetype": "text/x-python",
   "name": "python",
   "nbconvert_exporter": "python",
   "pygments_lexer": "ipython3",
   "version": "3.10.16"
  }
 },
 "nbformat": 4,
 "nbformat_minor": 5
}
